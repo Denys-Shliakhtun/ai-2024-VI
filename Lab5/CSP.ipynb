{
  "cells": [
    {
      "cell_type": "markdown",
      "metadata": {
        "id": "ENXwfZndcc4D"
      },
      "source": [
        "# Базовий фреймворк для задач задоволення обмежень"
      ]
    },
    {
      "cell_type": "markdown",
      "metadata": {
        "id": "cU6aG_tpcEKU"
      },
      "source": [
        "Базова модель задачі задоволення обмежень:"
      ]
    },
    {
      "cell_type": "code",
      "execution_count": 26,
      "metadata": {
        "id": "h5iBKt3wqje8"
      },
      "outputs": [],
      "source": [
        "# csp.py\n",
        "# From Classic Computer Science Problems in Python Chapter 3\n",
        "# Copyright 2018 David Kopec\n",
        "#\n",
        "# Licensed under the Apache License, Version 2.0 (the \"License\");\n",
        "# you may not use this file except in compliance with the License.\n",
        "# You may obtain a copy of the License at\n",
        "#\n",
        "# http://www.apache.org/licenses/LICENSE-2.0\n",
        "#\n",
        "# Unless required by applicable law or agreed to in writing, software\n",
        "# distributed under the License is distributed on an \"AS IS\" BASIS,\n",
        "# WITHOUT WARRANTIES OR CONDITIONS OF ANY KIND, either express or implied.\n",
        "# See the License for the specific language governing permissions and\n",
        "# limitations under the License.\n",
        "from typing import Generic, TypeVar, Dict, List, Optional\n",
        "from abc import ABC, abstractmethod\n",
        "\n",
        "V = TypeVar('V') # variable type\n",
        "D = TypeVar('D') # domain type\n",
        "\n",
        "\n",
        "# Base class for all constraints\n",
        "class Constraint(Generic[V, D], ABC):\n",
        "    # The variables that the constraint is between\n",
        "    def __init__(self, variables: List[V]) -> None:\n",
        "        self.variables = variables\n",
        "\n",
        "    # Must be overridden by subclasses\n",
        "    @abstractmethod\n",
        "    def satisfied(self, assignment: Dict[V, D]) -> bool:\n",
        "        ...\n",
        "\n",
        "\n",
        "# A constraint satisfaction problem consists of variables of type V\n",
        "# that have ranges of values known as domains of type D and constraints\n",
        "# that determine whether a particular variable's domain selection is valid\n",
        "class CSP(Generic[V, D]):\n",
        "    def __init__(self, variables: List[V], domains: Dict[V, List[D]]) -> None:\n",
        "        self.variables: List[V] = variables # variables to be constrained\n",
        "        self.domains: Dict[V, List[D]] = domains # domain of each variable\n",
        "        self.constraints: Dict[V, List[Constraint[V, D]]] = {}\n",
        "        for variable in self.variables:\n",
        "            self.constraints[variable] = []\n",
        "            if variable not in self.domains:\n",
        "                raise LookupError(\"Every variable should have a domain assigned to it.\")\n",
        "        self.BT_calls = 0\n",
        "\n",
        "    def add_constraint(self, constraint: Constraint[V, D]) -> None:\n",
        "        for variable in constraint.variables:\n",
        "            if variable not in self.variables:\n",
        "                raise LookupError(\"Variable in constraint not in CSP\")\n",
        "            else:\n",
        "                self.constraints[variable].append(constraint)\n",
        "\n",
        "    # Check if the value assignment is consistent by checking all constraints\n",
        "    # for the given variable against it\n",
        "    def consistent(self, variable: V, assignment: Dict[V, D]) -> bool:\n",
        "        for constraint in self.constraints[variable]:\n",
        "            if not constraint.satisfied(assignment):\n",
        "                return False\n",
        "        return True\n",
        "    \n",
        "    def backtracking_search(self, assignment: Dict[V, D] = {}) -> Optional[Dict[V, D]]:\n",
        "        self.BT_calls += 1\n",
        "        # assignment is complete if every variable is assigned (our base case)\n",
        "        if len(assignment) == len(self.variables):\n",
        "            return assignment\n",
        "\n",
        "        # get all variables in the CSP but not in the assignment\n",
        "        unassigned: List[V] = [v for v in self.variables if v not in assignment]\n",
        "\n",
        "        # get the every possible domain value of the first unassigned variable\n",
        "        first: V = unassigned[0]\n",
        "        for value in self.domains[first]:\n",
        "            local_assignment = assignment.copy()\n",
        "            local_assignment[first] = value\n",
        "            # if we're still consistent, we recurse (continue)\n",
        "            if self.consistent(first, local_assignment):\n",
        "                result: Optional[Dict[V, D]] = self.backtracking_search(local_assignment)\n",
        "                # if we didn't find the result, we will end up backtracking\n",
        "                if result is not None:\n",
        "                    return result\n",
        "        return None\n",
        "    \n",
        "    def get_unconstrained_values_count(self, assignment: Dict[V, D] = {}, variable: V = None) -> int:\n",
        "        count = 0\n",
        "        for value in self.domains[variable]:\n",
        "            local_assignment = assignment.copy()\n",
        "            local_assignment[variable] = value\n",
        "            if self.consistent(variable, local_assignment):\n",
        "                count += 1\n",
        "        return count\n",
        "    \n",
        "    def MCV(self, assignment: Dict[V, D] = {}, unassigned: List[V] = {}) -> V:\n",
        "        result = [self.get_unconstrained_values_count(assignment, variable) for variable in unassigned]\n",
        "        return unassigned[result.index(min(result))]\n",
        "    \n",
        "    def LCV(self, assignment: Dict[V, D] = {}, variable: V = None) -> List[D]:\n",
        "        values = []\n",
        "        result = []\n",
        "        unassigned: List[V] = [v for v in self.variables if v not in assignment and v != variable]\n",
        "        for value in self.domains[variable]:\n",
        "            local_assignment = assignment.copy()\n",
        "            local_assignment[variable] = value\n",
        "            if self.consistent(variable, local_assignment):\n",
        "                values.append(value)\n",
        "                count = 0\n",
        "                for unassign in unassigned:\n",
        "                    count += self.get_unconstrained_values_count(local_assignment, unassign)\n",
        "                result.append(count)\n",
        "        \n",
        "        return [element for _, element in sorted(zip(result, values), key=lambda x: x[0], reverse=True)]\n",
        "    \n",
        "    def AC_3(self, assignment: Dict[V, D] = {}) -> bool:\n",
        "        unassigned: List[V] = [v for v in self.variables if v not in assignment]\n",
        "        for variable in unassigned:\n",
        "            if self.get_unconstrained_values_count(assignment, variable) == 0:\n",
        "                return False\n",
        "        return True\n",
        "\n",
        "    # BT+MCV+LCV+AC-3\n",
        "    def backtracking_search_method_1(self, assignment: Dict[V, D] = {}) -> Optional[Dict[V, D]]: \n",
        "        self.BT_calls += 1\n",
        "\n",
        "        # assignment is complete if every variable is assigned (our base case)\n",
        "        if len(assignment) == len(self.variables):\n",
        "            return assignment\n",
        "\n",
        "        # get all variables in the CSP but not in the assignment\n",
        "        unassigned: List[V] = [v for v in self.variables if v not in assignment]\n",
        "\n",
        "        # get the every possible domain value of the most constrained value\n",
        "        first: V = self.MCV(assignment, unassigned)\n",
        "        for value in self.LCV(assignment, first):\n",
        "            local_assignment = assignment.copy()\n",
        "            local_assignment[first] = value\n",
        "            # if we're still consistent, we recurse (continue)\n",
        "            if self.AC_3(local_assignment):\n",
        "                result: Optional[Dict[V, D]] = self.backtracking_search_method_1(local_assignment)\n",
        "                # if we didn't find the result, we will end up backtracking\n",
        "                if result is not None:\n",
        "                    return result\n",
        "        return None\n",
        "    \n",
        "    # BT+LCV\n",
        "    def backtracking_search_method_2(self, assignment: Dict[V, D] = {}) -> Optional[Dict[V, D]]:\n",
        "        self.BT_calls += 1\n",
        "        \n",
        "        # assignment is complete if every variable is assigned (our base case)\n",
        "        if len(assignment) == len(self.variables):\n",
        "            return assignment\n",
        "\n",
        "        # get all variables in the CSP but not in the assignment\n",
        "        unassigned: List[V] = [v for v in self.variables if v not in assignment]\n",
        "\n",
        "        # get the every possible domain value of the first unassigned variable\n",
        "        first: V = unassigned[0]\n",
        "        for value in self.LCV(assignment, first):\n",
        "            local_assignment = assignment.copy()\n",
        "            local_assignment[first] = value\n",
        "            # if we're still consistent, we recurse (continue)\n",
        "            if self.consistent(first, local_assignment):\n",
        "                result: Optional[Dict[V, D]] = self.backtracking_search_method_2(local_assignment)\n",
        "                # if we didn't find the result, we will end up backtracking\n",
        "                if result is not None:\n",
        "                    return result\n",
        "        return None\n"
      ]
    },
    {
      "cell_type": "markdown",
      "metadata": {
        "id": "DMG9DvpvaZWy"
      },
      "source": [
        "# Задача з ферзями"
      ]
    },
    {
      "cell_type": "markdown",
      "metadata": {
        "id": "fZ3MdVZzarbG"
      },
      "source": [
        "Реалізація обмеження задачі:"
      ]
    },
    {
      "cell_type": "code",
      "execution_count": 27,
      "metadata": {
        "id": "_AB5A_fgqu55"
      },
      "outputs": [],
      "source": [
        "class QueensConstraint(Constraint[int, int]):\n",
        "    def __init__(self, columns: List[int]) -> None:\n",
        "        super().__init__(columns)\n",
        "        self.columns: List[int] = columns\n",
        "\n",
        "    def satisfied(self, assignment: Dict[int, int]) -> bool:\n",
        "        # q1c = queen 1 column, q1r = queen 1 row\n",
        "        for q1c, q1r in assignment.items():\n",
        "            # q2c = queen 2 column\n",
        "            for q2c in range(q1c + 1, len(self.columns) + 1):\n",
        "                if q2c in assignment:\n",
        "                    q2r: int = assignment[q2c] # q2r = queen 2 row\n",
        "                    if q1r == q2r: # same row?\n",
        "                        return False\n",
        "                    if abs(q1r - q2r) == abs(q1c - q2c): # same diagonal?\n",
        "                        return False\n",
        "        return True # no conflict"
      ]
    },
    {
      "cell_type": "markdown",
      "metadata": {
        "id": "eaABKhDFbGZz"
      },
      "source": [
        "Рішення:"
      ]
    },
    {
      "cell_type": "code",
      "execution_count": 28,
      "metadata": {
        "colab": {
          "base_uri": "https://localhost:8080/"
        },
        "id": "staBba5pq6pH",
        "outputId": "457a125e-dfa4-4113-8245-1da1ad91b6f3"
      },
      "outputs": [
        {
          "name": "stdout",
          "output_type": "stream",
          "text": [
            "{1: 1, 2: 5, 3: 8, 4: 6, 5: 3, 6: 7, 7: 2, 8: 4}\n",
            "{1: 1, 2: 6, 3: 8, 4: 3, 5: 7, 6: 4, 7: 2, 8: 5}\n",
            "{1: 1, 2: 6, 3: 8, 4: 3, 5: 7, 6: 4, 7: 2, 8: 5}\n",
            "8 [114, 30, 56]\n",
            "{1: 1, 2: 3, 3: 5, 4: 8, 5: 10, 6: 12, 7: 6, 8: 11, 9: 2, 10: 7, 11: 9, 12: 4}\n",
            "{1: 1, 2: 4, 3: 7, 8: 3, 6: 2, 10: 11, 9: 6, 5: 8, 4: 10, 12: 5, 7: 12, 11: 9}\n",
            "{1: 1, 2: 4, 3: 7, 4: 10, 5: 12, 6: 5, 7: 8, 8: 11, 9: 3, 10: 6, 11: 2, 12: 9}\n",
            "12 [262, 26, 259]\n",
            "{1: 1, 2: 3, 3: 5, 4: 2, 5: 13, 6: 9, 7: 14, 8: 12, 9: 15, 10: 6, 11: 16, 12: 7, 13: 4, 14: 11, 15: 8, 16: 10}\n",
            "{1: 1, 2: 4, 3: 7, 8: 16, 4: 10, 7: 2, 6: 9, 9: 3, 11: 8, 5: 12, 12: 11, 10: 15, 14: 6, 13: 14, 15: 13, 16: 5}\n",
            "{1: 1, 2: 4, 3: 7, 4: 16, 5: 13, 6: 15, 7: 10, 8: 14, 9: 6, 10: 3, 11: 5, 12: 2, 13: 12, 14: 9, 15: 11, 16: 8}\n",
            "16 [10053, 240, 2725]\n",
            "{1: 1, 2: 3, 3: 5, 4: 2, 5: 4, 6: 13, 7: 15, 8: 12, 9: 18, 10: 20, 11: 17, 12: 9, 13: 16, 14: 19, 15: 8, 16: 10, 17: 7, 18: 14, 19: 6, 20: 11}\n",
            "{1: 1, 2: 4, 3: 7, 8: 20, 4: 18, 7: 17, 9: 3, 12: 2, 15: 11, 10: 8, 5: 10, 11: 19, 6: 15, 16: 9, 20: 12, 13: 14, 14: 5, 18: 13, 19: 16, 17: 6}\n",
            "{1: 1, 2: 4, 3: 7, 4: 20, 5: 11, 6: 16, 7: 19, 8: 17, 9: 3, 10: 18, 11: 9, 12: 15, 13: 8, 14: 5, 15: 2, 16: 13, 17: 6, 18: 14, 19: 12, 20: 10}\n",
            "20 [199636, 28, 94]\n"
          ]
        }
      ],
      "source": [
        "size: List[int] = [8, 12, 16, 20]\n",
        "\n",
        "\n",
        "for n in size:\n",
        "    columns: List[int] = [i for i in range(1, n + 1)]\n",
        "    rows: Dict[int, List[int]] = {}\n",
        "    for column in columns:\n",
        "        rows[column] = [i for i in range(1, n + 1)]\n",
        "    csp: CSP[int, int] = CSP(columns, rows)\n",
        "    csp.add_constraint(QueensConstraint(columns))\n",
        "    methods = [csp.backtracking_search, csp.backtracking_search_method_1, csp.backtracking_search_method_2]\n",
        "    call_num = []\n",
        "    for i in range(3):       \n",
        "        csp.BT_calls = 0\n",
        "        solution: Optional[Dict[int, int]] = methods[i]()\n",
        "        if solution is None:\n",
        "            print(\"No solution found!\")\n",
        "        else:\n",
        "            print(solution)\n",
        "\n",
        "        call_num.append(csp.BT_calls)\n",
        "    print(n, call_num)"
      ]
    },
    {
      "cell_type": "code",
      "execution_count": null,
      "metadata": {
        "id": "lA23s_FQbX3c"
      },
      "outputs": [],
      "source": []
    }
  ],
  "metadata": {
    "colab": {
      "provenance": [],
      "toc_visible": true
    },
    "kernelspec": {
      "display_name": "Python 3",
      "name": "python3"
    },
    "language_info": {
      "codemirror_mode": {
        "name": "ipython",
        "version": 3
      },
      "file_extension": ".py",
      "mimetype": "text/x-python",
      "name": "python",
      "nbconvert_exporter": "python",
      "pygments_lexer": "ipython3",
      "version": "3.12.3"
    }
  },
  "nbformat": 4,
  "nbformat_minor": 0
}
